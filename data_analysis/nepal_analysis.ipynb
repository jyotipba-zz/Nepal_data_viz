{
 "cells": [
  {
   "cell_type": "code",
   "execution_count": 54,
   "metadata": {},
   "outputs": [],
   "source": [
    "import pandas as pd\n",
    "import missingno as msno # to visualize missing values\n",
    "import matplotlib.pyplot as plt\n",
    "import seaborn as sns\n",
    "#import folium  # to draw the map\n",
    "%matplotlib inline"
   ]
  },
  {
   "cell_type": "code",
   "execution_count": 55,
   "metadata": {},
   "outputs": [],
   "source": [
    "# read files\n",
    "main_data = pd.read_csv('main_data.csv')"
   ]
  },
  {
   "cell_type": "code",
   "execution_count": 56,
   "metadata": {},
   "outputs": [
    {
     "data": {
      "text/plain": [
       "(80, 20)"
      ]
     },
     "execution_count": 56,
     "metadata": {},
     "output_type": "execute_result"
    }
   ],
   "source": [
    "main_data.shape\n",
    "# repo to get geojon data for Nepal\n",
    "# https://github.com/mesaugat/geoJSON-Nepal"
   ]
  },
  {
   "cell_type": "code",
   "execution_count": 57,
   "metadata": {},
   "outputs": [
    {
     "data": {
      "text/html": [
       "<div>\n",
       "<style scoped>\n",
       "    .dataframe tbody tr th:only-of-type {\n",
       "        vertical-align: middle;\n",
       "    }\n",
       "\n",
       "    .dataframe tbody tr th {\n",
       "        vertical-align: top;\n",
       "    }\n",
       "\n",
       "    .dataframe thead th {\n",
       "        text-align: right;\n",
       "    }\n",
       "</style>\n",
       "<table border=\"1\" class=\"dataframe\">\n",
       "  <thead>\n",
       "    <tr style=\"text-align: right;\">\n",
       "      <th></th>\n",
       "      <th>S.N.</th>\n",
       "      <th>District</th>\n",
       "      <th>Total number of active male accounts</th>\n",
       "      <th>Total number of active female accounts</th>\n",
       "      <th>Total population</th>\n",
       "      <th>Percentage of active male accounts</th>\n",
       "      <th>Percentage of active female accounts</th>\n",
       "      <th>Female with Cooperative Access</th>\n",
       "      <th>Male with Cooperative access</th>\n",
       "      <th>FCHV Distict wise</th>\n",
       "      <th>Province</th>\n",
       "      <th>Province No.</th>\n",
       "      <th>Topography</th>\n",
       "      <th>Literacy_Rate_Female</th>\n",
       "      <th>Literacy_Rate_Male</th>\n",
       "      <th>Literacy_Rate_Total</th>\n",
       "      <th>Total Population</th>\n",
       "      <th>Total Male</th>\n",
       "      <th>Total Female</th>\n",
       "      <th>Sex Ratio</th>\n",
       "    </tr>\n",
       "  </thead>\n",
       "  <tbody>\n",
       "    <tr>\n",
       "      <th>0</th>\n",
       "      <td>1.0</td>\n",
       "      <td>Bhojpur</td>\n",
       "      <td>28,294</td>\n",
       "      <td>17,753</td>\n",
       "      <td>181,225</td>\n",
       "      <td>16</td>\n",
       "      <td>10</td>\n",
       "      <td>1602</td>\n",
       "      <td>4971</td>\n",
       "      <td>594.0</td>\n",
       "      <td>Province1</td>\n",
       "      <td>1.0</td>\n",
       "      <td>Hill</td>\n",
       "      <td>55.0</td>\n",
       "      <td>75.0</td>\n",
       "      <td>64.0</td>\n",
       "      <td>182,459</td>\n",
       "      <td>86,053</td>\n",
       "      <td>96,406</td>\n",
       "      <td>89.3</td>\n",
       "    </tr>\n",
       "    <tr>\n",
       "      <th>1</th>\n",
       "      <td>2.0</td>\n",
       "      <td>Dhankuta</td>\n",
       "      <td>36,974</td>\n",
       "      <td>26,748</td>\n",
       "      <td>161,398</td>\n",
       "      <td>23</td>\n",
       "      <td>17</td>\n",
       "      <td>5814</td>\n",
       "      <td>15880</td>\n",
       "      <td>315.0</td>\n",
       "      <td>Province1</td>\n",
       "      <td>1.0</td>\n",
       "      <td>Hill</td>\n",
       "      <td>55.0</td>\n",
       "      <td>75.0</td>\n",
       "      <td>64.0</td>\n",
       "      <td>163,412</td>\n",
       "      <td>76,515</td>\n",
       "      <td>86,897</td>\n",
       "      <td>88.1</td>\n",
       "    </tr>\n",
       "    <tr>\n",
       "      <th>2</th>\n",
       "      <td>3.0</td>\n",
       "      <td>Ilam</td>\n",
       "      <td>75,566</td>\n",
       "      <td>54,675</td>\n",
       "      <td>287,932</td>\n",
       "      <td>26</td>\n",
       "      <td>19</td>\n",
       "      <td>17327</td>\n",
       "      <td>51429</td>\n",
       "      <td>1074.0</td>\n",
       "      <td>Province1</td>\n",
       "      <td>1.0</td>\n",
       "      <td>Hill</td>\n",
       "      <td>55.0</td>\n",
       "      <td>75.0</td>\n",
       "      <td>64.0</td>\n",
       "      <td>290,254</td>\n",
       "      <td>141,126</td>\n",
       "      <td>149,128</td>\n",
       "      <td>94.6</td>\n",
       "    </tr>\n",
       "    <tr>\n",
       "      <th>3</th>\n",
       "      <td>4.0</td>\n",
       "      <td>Jhapa</td>\n",
       "      <td>287,079</td>\n",
       "      <td>209,144</td>\n",
       "      <td>807,934</td>\n",
       "      <td>36</td>\n",
       "      <td>26</td>\n",
       "      <td>227296</td>\n",
       "      <td>160576</td>\n",
       "      <td>660.0</td>\n",
       "      <td>Province1</td>\n",
       "      <td>1.0</td>\n",
       "      <td>Terai</td>\n",
       "      <td>55.0</td>\n",
       "      <td>75.0</td>\n",
       "      <td>64.0</td>\n",
       "      <td>812,650</td>\n",
       "      <td>385,096</td>\n",
       "      <td>427,554</td>\n",
       "      <td>90.1</td>\n",
       "    </tr>\n",
       "    <tr>\n",
       "      <th>4</th>\n",
       "      <td>5.0</td>\n",
       "      <td>Khotang</td>\n",
       "      <td>26,562</td>\n",
       "      <td>14,689</td>\n",
       "      <td>205,225</td>\n",
       "      <td>13</td>\n",
       "      <td>7</td>\n",
       "      <td>7086</td>\n",
       "      <td>7836</td>\n",
       "      <td>933.0</td>\n",
       "      <td>Province1</td>\n",
       "      <td>1.0</td>\n",
       "      <td>Hill</td>\n",
       "      <td>55.0</td>\n",
       "      <td>75.0</td>\n",
       "      <td>64.0</td>\n",
       "      <td>206,312</td>\n",
       "      <td>97,092</td>\n",
       "      <td>109,220</td>\n",
       "      <td>88.9</td>\n",
       "    </tr>\n",
       "  </tbody>\n",
       "</table>\n",
       "</div>"
      ],
      "text/plain": [
       "   S.N.  District Total number of active male accounts  \\\n",
       "0   1.0   Bhojpur                               28,294   \n",
       "1   2.0  Dhankuta                               36,974   \n",
       "2   3.0      Ilam                               75,566   \n",
       "3   4.0     Jhapa                              287,079   \n",
       "4   5.0   Khotang                               26,562   \n",
       "\n",
       "  Total number of active female accounts Total population  \\\n",
       "0                                 17,753          181,225   \n",
       "1                                 26,748          161,398   \n",
       "2                                 54,675          287,932   \n",
       "3                                209,144          807,934   \n",
       "4                                 14,689          205,225   \n",
       "\n",
       "  Percentage of active male accounts Percentage of active female accounts  \\\n",
       "0                                 16                                   10   \n",
       "1                                 23                                   17   \n",
       "2                                 26                                   19   \n",
       "3                                 36                                   26   \n",
       "4                                 13                                    7   \n",
       "\n",
       "  Female with Cooperative Access Male with Cooperative access  \\\n",
       "0                           1602                         4971   \n",
       "1                           5814                        15880   \n",
       "2                          17327                        51429   \n",
       "3                         227296                       160576   \n",
       "4                           7086                         7836   \n",
       "\n",
       "   FCHV Distict wise   Province  Province No. Topography  \\\n",
       "0              594.0  Province1           1.0       Hill   \n",
       "1              315.0  Province1           1.0       Hill   \n",
       "2             1074.0  Province1           1.0       Hill   \n",
       "3              660.0  Province1           1.0      Terai   \n",
       "4              933.0  Province1           1.0       Hill   \n",
       "\n",
       "   Literacy_Rate_Female  Literacy_Rate_Male  Literacy_Rate_Total  \\\n",
       "0                  55.0                75.0                 64.0   \n",
       "1                  55.0                75.0                 64.0   \n",
       "2                  55.0                75.0                 64.0   \n",
       "3                  55.0                75.0                 64.0   \n",
       "4                  55.0                75.0                 64.0   \n",
       "\n",
       "  Total Population Total Male Total Female  Sex Ratio  \n",
       "0          182,459     86,053       96,406       89.3  \n",
       "1          163,412     76,515       86,897       88.1  \n",
       "2          290,254    141,126      149,128       94.6  \n",
       "3          812,650    385,096      427,554       90.1  \n",
       "4          206,312     97,092      109,220       88.9  "
      ]
     },
     "execution_count": 57,
     "metadata": {},
     "output_type": "execute_result"
    }
   ],
   "source": [
    "main_data.head(5)"
   ]
  },
  {
   "cell_type": "code",
   "execution_count": 58,
   "metadata": {},
   "outputs": [
    {
     "name": "stdout",
     "output_type": "stream",
     "text": [
      "<class 'pandas.core.frame.DataFrame'>\n",
      "RangeIndex: 80 entries, 0 to 79\n",
      "Data columns (total 20 columns):\n",
      "S.N.                                      77 non-null float64\n",
      "District                                  78 non-null object\n",
      "Total number of active male accounts      80 non-null object\n",
      "Total number of active female accounts    78 non-null object\n",
      "Total population                          78 non-null object\n",
      "Percentage of active male accounts        78 non-null object\n",
      "Percentage of active female accounts      78 non-null object\n",
      "Female with Cooperative Access            78 non-null object\n",
      "Male with Cooperative access              78 non-null object\n",
      "FCHV Distict wise                         78 non-null float64\n",
      "Province                                  77 non-null object\n",
      "Province No.                              77 non-null float64\n",
      "Topography                                77 non-null object\n",
      "Literacy_Rate_Female                      76 non-null float64\n",
      "Literacy_Rate_Male                        76 non-null float64\n",
      "Literacy_Rate_Total                       76 non-null float64\n",
      "Total Population                          77 non-null object\n",
      "Total Male                                77 non-null object\n",
      "Total Female                              77 non-null object\n",
      "Sex Ratio                                 77 non-null float64\n",
      "dtypes: float64(7), object(13)\n",
      "memory usage: 12.6+ KB\n"
     ]
    }
   ],
   "source": [
    "main_data.info()"
   ]
  },
  {
   "cell_type": "code",
   "execution_count": 59,
   "metadata": {},
   "outputs": [
    {
     "data": {
      "text/plain": [
       "S.N.                                      3\n",
       "District                                  2\n",
       "Total number of active male accounts      0\n",
       "Total number of active female accounts    2\n",
       "Total population                          2\n",
       "Percentage of active male accounts        2\n",
       "Percentage of active female accounts      2\n",
       "Female with Cooperative Access            2\n",
       "Male with Cooperative access              2\n",
       "FCHV Distict wise                         2\n",
       "Province                                  3\n",
       "Province No.                              3\n",
       "Topography                                3\n",
       "Literacy_Rate_Female                      4\n",
       "Literacy_Rate_Male                        4\n",
       "Literacy_Rate_Total                       4\n",
       "Total Population                          3\n",
       "Total Male                                3\n",
       "Total Female                              3\n",
       "Sex Ratio                                 3\n",
       "dtype: int64"
      ]
     },
     "execution_count": 59,
     "metadata": {},
     "output_type": "execute_result"
    }
   ],
   "source": [
    "# Check for missing values Total Male\n",
    "main_data.isnull().sum()"
   ]
  },
  {
   "cell_type": "code",
   "execution_count": 60,
   "metadata": {},
   "outputs": [
    {
     "data": {
      "text/plain": [
       "<matplotlib.axes._subplots.AxesSubplot at 0x7f6115904c88>"
      ]
     },
     "execution_count": 60,
     "metadata": {},
     "output_type": "execute_result"
    },
    {
     "data": {
      "image/png": "[encoded data removed]",
      "text/plain": [
       "<Figure size 1800x720 with 2 Axes>"
      ]
     },
     "metadata": {
      "needs_background": "light"
     },
     "output_type": "display_data"
    }
   ],
   "source": [
    "# Visualize missing values as a matrix \n",
    "msno.matrix(main_data) "
   ]
  },
  {
   "cell_type": "code",
   "execution_count": 61,
   "metadata": {},
   "outputs": [
    {
     "data": {
      "text/html": [
       "<div>\n",
       "<style scoped>\n",
       "    .dataframe tbody tr th:only-of-type {\n",
       "        vertical-align: middle;\n",
       "    }\n",
       "\n",
       "    .dataframe tbody tr th {\n",
       "        vertical-align: top;\n",
       "    }\n",
       "\n",
       "    .dataframe thead th {\n",
       "        text-align: right;\n",
       "    }\n",
       "</style>\n",
       "<table border=\"1\" class=\"dataframe\">\n",
       "  <thead>\n",
       "    <tr style=\"text-align: right;\">\n",
       "      <th></th>\n",
       "      <th>S.N.</th>\n",
       "      <th>District</th>\n",
       "      <th>Total number of active male accounts</th>\n",
       "      <th>Total number of active female accounts</th>\n",
       "      <th>Total population</th>\n",
       "      <th>Percentage of active male accounts</th>\n",
       "      <th>Percentage of active female accounts</th>\n",
       "      <th>Female with Cooperative Access</th>\n",
       "      <th>Male with Cooperative access</th>\n",
       "      <th>FCHV Distict wise</th>\n",
       "      <th>Province</th>\n",
       "      <th>Province No.</th>\n",
       "      <th>Topography</th>\n",
       "      <th>Literacy_Rate_Female</th>\n",
       "      <th>Literacy_Rate_Male</th>\n",
       "      <th>Literacy_Rate_Total</th>\n",
       "      <th>Total Population</th>\n",
       "      <th>Total Male</th>\n",
       "      <th>Total Female</th>\n",
       "      <th>Sex Ratio</th>\n",
       "    </tr>\n",
       "  </thead>\n",
       "  <tbody>\n",
       "    <tr>\n",
       "      <th>75</th>\n",
       "      <td>76.0</td>\n",
       "      <td>Kalikot</td>\n",
       "      <td>12,660</td>\n",
       "      <td>7,524</td>\n",
       "      <td>136,587</td>\n",
       "      <td>9</td>\n",
       "      <td>6</td>\n",
       "      <td>3436</td>\n",
       "      <td>5728</td>\n",
       "      <td>294.0</td>\n",
       "      <td>Sudurpaschim</td>\n",
       "      <td>7.0</td>\n",
       "      <td>Mountain</td>\n",
       "      <td>38.0</td>\n",
       "      <td>72.0</td>\n",
       "      <td>54.0</td>\n",
       "      <td>136,948</td>\n",
       "      <td>68,833</td>\n",
       "      <td>68,115</td>\n",
       "      <td>101.1</td>\n",
       "    </tr>\n",
       "    <tr>\n",
       "      <th>76</th>\n",
       "      <td>77.0</td>\n",
       "      <td>Kailali</td>\n",
       "      <td>237,161</td>\n",
       "      <td>171,037</td>\n",
       "      <td>766,659</td>\n",
       "      <td>31</td>\n",
       "      <td>22</td>\n",
       "      <td>81290</td>\n",
       "      <td>100452</td>\n",
       "      <td>1347.0</td>\n",
       "      <td>Sudurpaschim</td>\n",
       "      <td>7.0</td>\n",
       "      <td>Terai</td>\n",
       "      <td>59.0</td>\n",
       "      <td>80.0</td>\n",
       "      <td>69.0</td>\n",
       "      <td>775,709</td>\n",
       "      <td>378,417</td>\n",
       "      <td>397,292</td>\n",
       "      <td>95.2</td>\n",
       "    </tr>\n",
       "    <tr>\n",
       "      <th>77</th>\n",
       "      <td>nan</td>\n",
       "      <td>(All)</td>\n",
       "      <td>9,268,341</td>\n",
       "      <td>6,701,931</td>\n",
       "      <td>26,035,480</td>\n",
       "      <td>2,266</td>\n",
       "      <td>1,677</td>\n",
       "      <td>3,292,437</td>\n",
       "      <td>3,304,071</td>\n",
       "      <td>51417.0</td>\n",
       "      <td>NaN</td>\n",
       "      <td>nan</td>\n",
       "      <td>NaN</td>\n",
       "      <td>nan</td>\n",
       "      <td>nan</td>\n",
       "      <td>nan</td>\n",
       "      <td>NaN</td>\n",
       "      <td>NaN</td>\n",
       "      <td>NaN</td>\n",
       "      <td>nan</td>\n",
       "    </tr>\n",
       "    <tr>\n",
       "      <th>78</th>\n",
       "      <td>nan</td>\n",
       "      <td>NaN</td>\n",
       "      <td>15,970,272</td>\n",
       "      <td>NaN</td>\n",
       "      <td>NaN</td>\n",
       "      <td>NaN</td>\n",
       "      <td>NaN</td>\n",
       "      <td>NaN</td>\n",
       "      <td>NaN</td>\n",
       "      <td>nan</td>\n",
       "      <td>NaN</td>\n",
       "      <td>nan</td>\n",
       "      <td>NaN</td>\n",
       "      <td>nan</td>\n",
       "      <td>nan</td>\n",
       "      <td>nan</td>\n",
       "      <td>NaN</td>\n",
       "      <td>NaN</td>\n",
       "      <td>NaN</td>\n",
       "      <td>nan</td>\n",
       "    </tr>\n",
       "    <tr>\n",
       "      <th>79</th>\n",
       "      <td>nan</td>\n",
       "      <td>NaN</td>\n",
       "      <td>0.61340417</td>\n",
       "      <td>NaN</td>\n",
       "      <td>NaN</td>\n",
       "      <td>NaN</td>\n",
       "      <td>NaN</td>\n",
       "      <td>NaN</td>\n",
       "      <td>NaN</td>\n",
       "      <td>nan</td>\n",
       "      <td>NaN</td>\n",
       "      <td>nan</td>\n",
       "      <td>NaN</td>\n",
       "      <td>nan</td>\n",
       "      <td>nan</td>\n",
       "      <td>nan</td>\n",
       "      <td>NaN</td>\n",
       "      <td>NaN</td>\n",
       "      <td>NaN</td>\n",
       "      <td>nan</td>\n",
       "    </tr>\n",
       "  </tbody>\n",
       "</table>\n",
       "</div>"
      ],
      "text/plain": [
       "    S.N. District Total number of active male accounts  \\\n",
       "75  76.0  Kalikot                               12,660   \n",
       "76  77.0  Kailali                              237,161   \n",
       "77   nan    (All)                            9,268,341   \n",
       "78   nan      NaN                           15,970,272   \n",
       "79   nan      NaN                           0.61340417   \n",
       "\n",
       "   Total number of active female accounts Total population  \\\n",
       "75                                  7,524          136,587   \n",
       "76                                171,037          766,659   \n",
       "77                              6,701,931       26,035,480   \n",
       "78                                    NaN              NaN   \n",
       "79                                    NaN              NaN   \n",
       "\n",
       "   Percentage of active male accounts Percentage of active female accounts  \\\n",
       "75                                  9                                    6   \n",
       "76                                 31                                   22   \n",
       "77                              2,266                                1,677   \n",
       "78                                NaN                                  NaN   \n",
       "79                                NaN                                  NaN   \n",
       "\n",
       "   Female with Cooperative Access Male with Cooperative access  \\\n",
       "75                           3436                         5728   \n",
       "76                          81290                       100452   \n",
       "77                      3,292,437                    3,304,071   \n",
       "78                            NaN                          NaN   \n",
       "79                            NaN                          NaN   \n",
       "\n",
       "    FCHV Distict wise      Province  Province No. Topography  \\\n",
       "75              294.0  Sudurpaschim           7.0   Mountain   \n",
       "76             1347.0  Sudurpaschim           7.0      Terai   \n",
       "77            51417.0           NaN           nan        NaN   \n",
       "78                nan           NaN           nan        NaN   \n",
       "79                nan           NaN           nan        NaN   \n",
       "\n",
       "    Literacy_Rate_Female  Literacy_Rate_Male  Literacy_Rate_Total  \\\n",
       "75                  38.0                72.0                 54.0   \n",
       "76                  59.0                80.0                 69.0   \n",
       "77                   nan                 nan                  nan   \n",
       "78                   nan                 nan                  nan   \n",
       "79                   nan                 nan                  nan   \n",
       "\n",
       "   Total Population Total Male Total Female  Sex Ratio  \n",
       "75          136,948     68,833       68,115      101.1  \n",
       "76          775,709    378,417      397,292       95.2  \n",
       "77              NaN        NaN          NaN        nan  \n",
       "78              NaN        NaN          NaN        nan  \n",
       "79              NaN        NaN          NaN        nan  "
      ]
     },
     "execution_count": 61,
     "metadata": {},
     "output_type": "execute_result"
    }
   ],
   "source": [
    "# From above matrix, it can be seen that most of the missing values lies at the end of data frame\n",
    "main_data.tail(5)"
   ]
  },
  {
   "cell_type": "code",
   "execution_count": 62,
   "metadata": {},
   "outputs": [],
   "source": [
    "# it is safe to drop last 3 rows \n",
    "data = main_data.iloc[:77,:]"
   ]
  },
  {
   "cell_type": "code",
   "execution_count": 63,
   "metadata": {},
   "outputs": [
    {
     "data": {
      "text/plain": [
       "S.N.                                      0\n",
       "District                                  0\n",
       "Total number of active male accounts      0\n",
       "Total number of active female accounts    0\n",
       "Total population                          0\n",
       "Percentage of active male accounts        0\n",
       "Percentage of active female accounts      0\n",
       "Female with Cooperative Access            0\n",
       "Male with Cooperative access              0\n",
       "FCHV Distict wise                         0\n",
       "Province                                  0\n",
       "Province No.                              0\n",
       "Topography                                0\n",
       "Literacy_Rate_Female                      1\n",
       "Literacy_Rate_Male                        1\n",
       "Literacy_Rate_Total                       1\n",
       "Total Population                          0\n",
       "Total Male                                0\n",
       "Total Female                              0\n",
       "Sex Ratio                                 0\n",
       "dtype: int64"
      ]
     },
     "execution_count": 63,
     "metadata": {},
     "output_type": "execute_result"
    }
   ],
   "source": [
    "data.isnull().sum()"
   ]
  },
  {
   "cell_type": "code",
   "execution_count": 64,
   "metadata": {},
   "outputs": [
    {
     "data": {
      "text/html": [
       "<div>\n",
       "<style scoped>\n",
       "    .dataframe tbody tr th:only-of-type {\n",
       "        vertical-align: middle;\n",
       "    }\n",
       "\n",
       "    .dataframe tbody tr th {\n",
       "        vertical-align: top;\n",
       "    }\n",
       "\n",
       "    .dataframe thead th {\n",
       "        text-align: right;\n",
       "    }\n",
       "</style>\n",
       "<table border=\"1\" class=\"dataframe\">\n",
       "  <thead>\n",
       "    <tr style=\"text-align: right;\">\n",
       "      <th></th>\n",
       "      <th>S.N.</th>\n",
       "      <th>District</th>\n",
       "      <th>Total number of active male accounts</th>\n",
       "      <th>Total number of active female accounts</th>\n",
       "      <th>Total population</th>\n",
       "      <th>Percentage of active male accounts</th>\n",
       "      <th>Percentage of active female accounts</th>\n",
       "      <th>Female with Cooperative Access</th>\n",
       "      <th>Male with Cooperative access</th>\n",
       "      <th>FCHV Distict wise</th>\n",
       "      <th>Province</th>\n",
       "      <th>Province No.</th>\n",
       "      <th>Topography</th>\n",
       "      <th>Literacy_Rate_Female</th>\n",
       "      <th>Literacy_Rate_Male</th>\n",
       "      <th>Literacy_Rate_Total</th>\n",
       "      <th>Total Population</th>\n",
       "      <th>Total Male</th>\n",
       "      <th>Total Female</th>\n",
       "      <th>Sex Ratio</th>\n",
       "    </tr>\n",
       "  </thead>\n",
       "  <tbody>\n",
       "    <tr>\n",
       "      <th>61</th>\n",
       "      <td>62.0</td>\n",
       "      <td>Jajarkot</td>\n",
       "      <td>12,751</td>\n",
       "      <td>7,457</td>\n",
       "      <td>170,106</td>\n",
       "      <td>7</td>\n",
       "      <td>4</td>\n",
       "      <td>4779</td>\n",
       "      <td>12388</td>\n",
       "      <td>270.0</td>\n",
       "      <td>Karnali</td>\n",
       "      <td>6.0</td>\n",
       "      <td>Hill</td>\n",
       "      <td>nan</td>\n",
       "      <td>nan</td>\n",
       "      <td>nan</td>\n",
       "      <td>171,304</td>\n",
       "      <td>85,537</td>\n",
       "      <td>85,767</td>\n",
       "      <td>99.7</td>\n",
       "    </tr>\n",
       "  </tbody>\n",
       "</table>\n",
       "</div>"
      ],
      "text/plain": [
       "    S.N.  District Total number of active male accounts  \\\n",
       "61  62.0  Jajarkot                               12,751   \n",
       "\n",
       "   Total number of active female accounts Total population  \\\n",
       "61                                  7,457          170,106   \n",
       "\n",
       "   Percentage of active male accounts Percentage of active female accounts  \\\n",
       "61                                  7                                    4   \n",
       "\n",
       "   Female with Cooperative Access Male with Cooperative access  \\\n",
       "61                           4779                        12388   \n",
       "\n",
       "    FCHV Distict wise Province  Province No. Topography  Literacy_Rate_Female  \\\n",
       "61              270.0  Karnali           6.0       Hill                   nan   \n",
       "\n",
       "    Literacy_Rate_Male  Literacy_Rate_Total Total Population Total Male  \\\n",
       "61                 nan                  nan          171,304     85,537   \n",
       "\n",
       "   Total Female  Sex Ratio  \n",
       "61       85,767       99.7  "
      ]
     },
     "execution_count": 64,
     "metadata": {},
     "output_type": "execute_result"
    }
   ],
   "source": [
    "## There is still 3 columns with missing one missing value. So, lets see which row has missing values \n",
    "null_data = data[data.isnull().any(axis=1)]\n",
    "null_data"
   ]
  },
  {
   "cell_type": "code",
   "execution_count": 65,
   "metadata": {},
   "outputs": [
    {
     "data": {
      "text/plain": [
       "(77, 20)"
      ]
     },
     "execution_count": 65,
     "metadata": {},
     "output_type": "execute_result"
    }
   ],
   "source": [
    "data.shape"
   ]
  },
  {
   "cell_type": "code",
   "execution_count": 66,
   "metadata": {},
   "outputs": [],
   "source": [
    "## Some of the column which should be numeric are of type object. So, lets change that to float \n",
    "# first remove ',' \n",
    "data = data.replace(regex=r',', value='')\n",
    "col_to_change = ['Total number of active male accounts','Total number of active female accounts','Total population',\n",
    "              'Percentage of active male accounts','Percentage of active female accounts','Female with Cooperative Access'\n",
    "              ,'Male with Cooperative access']\n",
    "for col in col_to_change:\n",
    "    data[col] = pd.to_numeric(data[col])"
   ]
  },
  {
   "cell_type": "code",
   "execution_count": 67,
   "metadata": {},
   "outputs": [
    {
     "data": {
      "text/html": [
       "<div>\n",
       "<style scoped>\n",
       "    .dataframe tbody tr th:only-of-type {\n",
       "        vertical-align: middle;\n",
       "    }\n",
       "\n",
       "    .dataframe tbody tr th {\n",
       "        vertical-align: top;\n",
       "    }\n",
       "\n",
       "    .dataframe thead th {\n",
       "        text-align: right;\n",
       "    }\n",
       "</style>\n",
       "<table border=\"1\" class=\"dataframe\">\n",
       "  <thead>\n",
       "    <tr style=\"text-align: right;\">\n",
       "      <th></th>\n",
       "      <th>S.N.</th>\n",
       "      <th>Total number of active male accounts</th>\n",
       "      <th>Total number of active female accounts</th>\n",
       "      <th>Total population</th>\n",
       "      <th>Percentage of active male accounts</th>\n",
       "      <th>Percentage of active female accounts</th>\n",
       "      <th>Female with Cooperative Access</th>\n",
       "      <th>Male with Cooperative access</th>\n",
       "      <th>FCHV Distict wise</th>\n",
       "      <th>Province No.</th>\n",
       "      <th>Literacy_Rate_Female</th>\n",
       "      <th>Literacy_Rate_Male</th>\n",
       "      <th>Literacy_Rate_Total</th>\n",
       "      <th>Sex Ratio</th>\n",
       "    </tr>\n",
       "  </thead>\n",
       "  <tbody>\n",
       "    <tr>\n",
       "      <th>count</th>\n",
       "      <td>77.0</td>\n",
       "      <td>77.0</td>\n",
       "      <td>77.0</td>\n",
       "      <td>77.0</td>\n",
       "      <td>77.0</td>\n",
       "      <td>77.0</td>\n",
       "      <td>77.0</td>\n",
       "      <td>77.0</td>\n",
       "      <td>77.0</td>\n",
       "      <td>77.0</td>\n",
       "      <td>76.0</td>\n",
       "      <td>76.0</td>\n",
       "      <td>76.0</td>\n",
       "      <td>77.0</td>\n",
       "    </tr>\n",
       "    <tr>\n",
       "      <th>mean</th>\n",
       "      <td>39.0</td>\n",
       "      <td>120368.1</td>\n",
       "      <td>87038.1</td>\n",
       "      <td>338123.1</td>\n",
       "      <td>29.5</td>\n",
       "      <td>21.8</td>\n",
       "      <td>42758.9</td>\n",
       "      <td>42910.0</td>\n",
       "      <td>667.8</td>\n",
       "      <td>3.8</td>\n",
       "      <td>47.9</td>\n",
       "      <td>72.3</td>\n",
       "      <td>59.2</td>\n",
       "      <td>92.6</td>\n",
       "    </tr>\n",
       "    <tr>\n",
       "      <th>std</th>\n",
       "      <td>22.4</td>\n",
       "      <td>243800.9</td>\n",
       "      <td>160508.2</td>\n",
       "      <td>278141.7</td>\n",
       "      <td>20.5</td>\n",
       "      <td>16.3</td>\n",
       "      <td>49255.2</td>\n",
       "      <td>49610.3</td>\n",
       "      <td>349.8</td>\n",
       "      <td>2.0</td>\n",
       "      <td>11.0</td>\n",
       "      <td>7.6</td>\n",
       "      <td>8.9</td>\n",
       "      <td>8.8</td>\n",
       "    </tr>\n",
       "    <tr>\n",
       "      <th>min</th>\n",
       "      <td>1.0</td>\n",
       "      <td>2458.0</td>\n",
       "      <td>2256.0</td>\n",
       "      <td>5289.0</td>\n",
       "      <td>5.0</td>\n",
       "      <td>4.0</td>\n",
       "      <td>474.0</td>\n",
       "      <td>526.0</td>\n",
       "      <td>118.0</td>\n",
       "      <td>1.0</td>\n",
       "      <td>26.0</td>\n",
       "      <td>54.0</td>\n",
       "      <td>40.0</td>\n",
       "      <td>76.0</td>\n",
       "    </tr>\n",
       "    <tr>\n",
       "      <th>25%</th>\n",
       "      <td>20.0</td>\n",
       "      <td>26562.0</td>\n",
       "      <td>16378.0</td>\n",
       "      <td>158222.0</td>\n",
       "      <td>16.0</td>\n",
       "      <td>11.0</td>\n",
       "      <td>7086.0</td>\n",
       "      <td>8704.0</td>\n",
       "      <td>394.0</td>\n",
       "      <td>2.0</td>\n",
       "      <td>38.0</td>\n",
       "      <td>71.0</td>\n",
       "      <td>54.0</td>\n",
       "      <td>88.1</td>\n",
       "    </tr>\n",
       "    <tr>\n",
       "      <th>50%</th>\n",
       "      <td>39.0</td>\n",
       "      <td>62157.0</td>\n",
       "      <td>54107.0</td>\n",
       "      <td>258893.0</td>\n",
       "      <td>25.0</td>\n",
       "      <td>16.0</td>\n",
       "      <td>25545.0</td>\n",
       "      <td>23558.0</td>\n",
       "      <td>624.0</td>\n",
       "      <td>4.0</td>\n",
       "      <td>51.5</td>\n",
       "      <td>73.5</td>\n",
       "      <td>61.0</td>\n",
       "      <td>91.9</td>\n",
       "    </tr>\n",
       "    <tr>\n",
       "      <th>75%</th>\n",
       "      <td>58.0</td>\n",
       "      <td>124419.0</td>\n",
       "      <td>86508.0</td>\n",
       "      <td>457606.0</td>\n",
       "      <td>34.0</td>\n",
       "      <td>26.0</td>\n",
       "      <td>65339.0</td>\n",
       "      <td>58186.0</td>\n",
       "      <td>933.0</td>\n",
       "      <td>5.0</td>\n",
       "      <td>58.0</td>\n",
       "      <td>79.0</td>\n",
       "      <td>67.0</td>\n",
       "      <td>98.2</td>\n",
       "    </tr>\n",
       "    <tr>\n",
       "      <th>max</th>\n",
       "      <td>77.0</td>\n",
       "      <td>2044112.0</td>\n",
       "      <td>1284528.0</td>\n",
       "      <td>1699289.0</td>\n",
       "      <td>120.0</td>\n",
       "      <td>83.0</td>\n",
       "      <td>227296.0</td>\n",
       "      <td>262325.0</td>\n",
       "      <td>1713.0</td>\n",
       "      <td>7.0</td>\n",
       "      <td>59.0</td>\n",
       "      <td>80.0</td>\n",
       "      <td>69.0</td>\n",
       "      <td>127.3</td>\n",
       "    </tr>\n",
       "  </tbody>\n",
       "</table>\n",
       "</div>"
      ],
      "text/plain": [
       "       S.N.  Total number of active male accounts  \\\n",
       "count  77.0                                  77.0   \n",
       "mean   39.0                              120368.1   \n",
       "std    22.4                              243800.9   \n",
       "min     1.0                                2458.0   \n",
       "25%    20.0                               26562.0   \n",
       "50%    39.0                               62157.0   \n",
       "75%    58.0                              124419.0   \n",
       "max    77.0                             2044112.0   \n",
       "\n",
       "       Total number of active female accounts  Total population  \\\n",
       "count                                    77.0              77.0   \n",
       "mean                                  87038.1          338123.1   \n",
       "std                                  160508.2          278141.7   \n",
       "min                                    2256.0            5289.0   \n",
       "25%                                   16378.0          158222.0   \n",
       "50%                                   54107.0          258893.0   \n",
       "75%                                   86508.0          457606.0   \n",
       "max                                 1284528.0         1699289.0   \n",
       "\n",
       "       Percentage of active male accounts  \\\n",
       "count                                77.0   \n",
       "mean                                 29.5   \n",
       "std                                  20.5   \n",
       "min                                   5.0   \n",
       "25%                                  16.0   \n",
       "50%                                  25.0   \n",
       "75%                                  34.0   \n",
       "max                                 120.0   \n",
       "\n",
       "       Percentage of active female accounts  Female with Cooperative Access  \\\n",
       "count                                  77.0                            77.0   \n",
       "mean                                   21.8                         42758.9   \n",
       "std                                    16.3                         49255.2   \n",
       "min                                     4.0                           474.0   \n",
       "25%                                    11.0                          7086.0   \n",
       "50%                                    16.0                         25545.0   \n",
       "75%                                    26.0                         65339.0   \n",
       "max                                    83.0                        227296.0   \n",
       "\n",
       "       Male with Cooperative access  FCHV Distict wise  Province No.  \\\n",
       "count                          77.0               77.0          77.0   \n",
       "mean                        42910.0              667.8           3.8   \n",
       "std                         49610.3              349.8           2.0   \n",
       "min                           526.0              118.0           1.0   \n",
       "25%                          8704.0              394.0           2.0   \n",
       "50%                         23558.0              624.0           4.0   \n",
       "75%                         58186.0              933.0           5.0   \n",
       "max                        262325.0             1713.0           7.0   \n",
       "\n",
       "       Literacy_Rate_Female  Literacy_Rate_Male  Literacy_Rate_Total  \\\n",
       "count                  76.0                76.0                 76.0   \n",
       "mean                   47.9                72.3                 59.2   \n",
       "std                    11.0                 7.6                  8.9   \n",
       "min                    26.0                54.0                 40.0   \n",
       "25%                    38.0                71.0                 54.0   \n",
       "50%                    51.5                73.5                 61.0   \n",
       "75%                    58.0                79.0                 67.0   \n",
       "max                    59.0                80.0                 69.0   \n",
       "\n",
       "       Sex Ratio  \n",
       "count       77.0  \n",
       "mean        92.6  \n",
       "std          8.8  \n",
       "min         76.0  \n",
       "25%         88.1  \n",
       "50%         91.9  \n",
       "75%         98.2  \n",
       "max        127.3  "
      ]
     },
     "execution_count": 67,
     "metadata": {},
     "output_type": "execute_result"
    }
   ],
   "source": [
    "# Brief descriptive statistic\n",
    "pd.options.display.float_format = '{:.1f}'.format\n",
    "data.describe()"
   ]
  },
  {
   "cell_type": "markdown",
   "metadata": {},
   "source": [
    " From above descriptive statistic, we can see that lowest percentage of female active accounts is 4% while \n",
    " maximum is 83%."
   ]
  },
  {
   "cell_type": "code",
   "execution_count": 68,
   "metadata": {},
   "outputs": [
    {
     "name": "stdout",
     "output_type": "stream",
     "text": [
      "28    Makwanpur\n",
      "Name: District, dtype: object\n",
      "26    Kavrepalanchok\n",
      "Name: District, dtype: object\n"
     ]
    }
   ],
   "source": [
    "print(data[data['District']=='Makwanpur']['District'])\n",
    "print(data[data['District']=='Kavrepalanchok']['District'])"
   ]
  },
  {
   "cell_type": "markdown",
   "metadata": {},
   "source": [
    "Before drawing the map, it was found that that few districts name on dataframe and geojason data does not match. So, replacing the district name in dataframe such that it matches with the name in geojson data.\n",
    " "
   ]
  },
  {
   "cell_type": "code",
   "execution_count": 69,
   "metadata": {},
   "outputs": [],
   "source": [
    "data = data.replace('Makwanpur', 'Makawanpur')\n",
    "data = data.replace('Kavrepalanchok', 'Kabhrepalanchok')\n",
    "data = data.replace('Dhanusa', 'Dhanusha')"
   ]
  },
  {
   "cell_type": "markdown",
   "metadata": {},
   "source": [
    "##  Draw a map "
   ]
  },
  {
   "cell_type": "code",
   "execution_count": null,
   "metadata": {},
   "outputs": [],
   "source": [
    "'''\n",
    "from IPython.display import display\n",
    "def choropleth_map():\n",
    "    nepal_geojson = './flask/myapp/static/nepal-districts-new.geojson'\n",
    "    start_coords = (28.3948574 ,84.1240082)\n",
    "    nep_map = folium.Map(location=start_coords, zoom_start=7)\n",
    "        #folium_map.save('myapp/templates/map.html')\n",
    "    chro_map = folium.Choropleth(geo_data=nepal_geojson, data=data,\n",
    "                     columns=['District','Percentage of active female accounts'],\n",
    "                     key_on='properties.DIST_EN',\n",
    "                    fill_color='PuBuGn',\n",
    "                      fill_opacity=1, line_opacity=1,\n",
    "                      legend_name='Percentage of active female accounts (%)'\n",
    "                     ).add_to(nep_map)\n",
    "    \n",
    "    folium.GeoJson(\n",
    "    nepal_geojson,\n",
    "    tooltip=folium.features.GeoJsonTooltip(fields=['DIST_EN'],aliases=['District:'])\n",
    "    ).add_to(chro_map )\n",
    "    \n",
    "    #display(nep_map)\n",
    "    #nep_map.save('./flask/myapp/templates/map.html')\n",
    "    #return folium_map._repr_html_()\n",
    "choropleth_map()\n",
    "'''"
   ]
  },
  {
   "cell_type": "code",
   "execution_count": 49,
   "metadata": {},
   "outputs": [],
   "source": []
  },
  {
   "cell_type": "markdown",
   "metadata": {},
   "source": [
    "## Visualizing and Analyzing the male and female access to banking "
   ]
  },
  {
   "cell_type": "markdown",
   "metadata": {},
   "source": [
    "#### male and female with active account by province\n"
   ]
  },
  {
   "cell_type": "code",
   "execution_count": 70,
   "metadata": {},
   "outputs": [],
   "source": [
    "account_province = data.groupby('Province')['Percentage of active male accounts','Percentage of active female accounts'].mean()"
   ]
  },
  {
   "cell_type": "code",
   "execution_count": 71,
   "metadata": {},
   "outputs": [
    {
     "data": {
      "image/png": "[encoded data removed]",
      "text/plain": [
       "<Figure size 720x360 with 1 Axes>"
      ]
     },
     "metadata": {
      "needs_background": "light"
     },
     "output_type": "display_data"
    }
   ],
   "source": [
    "fig, ax = plt.subplots(figsize=(10,5))\n",
    "account_province.plot(kind='bar', ax=ax)\n",
    "font = {'family': 'serif',\n",
    "        'color':  'darkred',\n",
    "        'weight': 'normal',\n",
    "        'size': 16}\n",
    "ax.set_ylabel('Populatiom with active bank account (%)')\n",
    "ax.set_xlabel('Provinces',fontdict = font)\n",
    "ax.set_title('Average percentage of male and female with active bank account by province ')\n",
    "ax.legend(['Male', 'Female']);\n",
    "plt.show()"
   ]
  },
  {
   "cell_type": "markdown",
   "metadata": {},
   "source": [
    "The above bar chat shows that except for Gandaki province, male population has higher access to bank account than female. \n",
    "But the most striking point is that Karnali and Province 2 have similar number of male and female population with acitve bank accounts. However, these two provinces differ much in term of economic activities and accessibility. \n",
    "Province 2 is one of the industrilized province of Nepal, there is good is transportation facilities but in contrary, Karnali province is one of remote province of Nepal, and very- very few industries are located here. So, given these two province differs much, it would be interesting to see why they share similar statistics. "
   ]
  },
  {
   "cell_type": "markdown",
   "metadata": {},
   "source": [
    "One of the reason I am interested in looking into is literacy rate by province. So, lets see the average literacy rate of male and female for each province. "
   ]
  },
  {
   "cell_type": "code",
   "execution_count": 32,
   "metadata": {},
   "outputs": [
    {
     "data": {
      "text/html": [
       "<div>\n",
       "<style scoped>\n",
       "    .dataframe tbody tr th:only-of-type {\n",
       "        vertical-align: middle;\n",
       "    }\n",
       "\n",
       "    .dataframe tbody tr th {\n",
       "        vertical-align: top;\n",
       "    }\n",
       "\n",
       "    .dataframe thead th {\n",
       "        text-align: right;\n",
       "    }\n",
       "</style>\n",
       "<table border=\"1\" class=\"dataframe\">\n",
       "  <thead>\n",
       "    <tr style=\"text-align: right;\">\n",
       "      <th></th>\n",
       "      <th>Literacy_Rate_Male</th>\n",
       "      <th>Literacy_Rate_Female</th>\n",
       "    </tr>\n",
       "    <tr>\n",
       "      <th>Province</th>\n",
       "      <th></th>\n",
       "      <th></th>\n",
       "    </tr>\n",
       "  </thead>\n",
       "  <tbody>\n",
       "    <tr>\n",
       "      <th>Gandaki</th>\n",
       "      <td>78.3</td>\n",
       "      <td>57.1</td>\n",
       "    </tr>\n",
       "    <tr>\n",
       "      <th>Karnali</th>\n",
       "      <td>67.0</td>\n",
       "      <td>38.0</td>\n",
       "    </tr>\n",
       "    <tr>\n",
       "      <th>Province1</th>\n",
       "      <td>75.0</td>\n",
       "      <td>55.0</td>\n",
       "    </tr>\n",
       "    <tr>\n",
       "      <th>Province2</th>\n",
       "      <td>54.0</td>\n",
       "      <td>26.0</td>\n",
       "    </tr>\n",
       "    <tr>\n",
       "      <th>Province3</th>\n",
       "      <td>79.9</td>\n",
       "      <td>58.9</td>\n",
       "    </tr>\n",
       "    <tr>\n",
       "      <th>Province5</th>\n",
       "      <td>71.1</td>\n",
       "      <td>47.2</td>\n",
       "    </tr>\n",
       "    <tr>\n",
       "      <th>Sudurpaschim</th>\n",
       "      <td>72.9</td>\n",
       "      <td>40.3</td>\n",
       "    </tr>\n",
       "  </tbody>\n",
       "</table>\n",
       "</div>"
      ],
      "text/plain": [
       "              Literacy_Rate_Male  Literacy_Rate_Female\n",
       "Province                                              \n",
       "Gandaki                     78.3                  57.1\n",
       "Karnali                     67.0                  38.0\n",
       "Province1                   75.0                  55.0\n",
       "Province2                   54.0                  26.0\n",
       "Province3                   79.9                  58.9\n",
       "Province5                   71.1                  47.2\n",
       "Sudurpaschim                72.9                  40.3"
      ]
     },
     "execution_count": 32,
     "metadata": {},
     "output_type": "execute_result"
    }
   ],
   "source": [
    "literacy_rate_province = data.groupby('Province')['Literacy_Rate_Male','Literacy_Rate_Female'].mean()\n",
    "literacy_rate_province"
   ]
  },
  {
   "cell_type": "markdown",
   "metadata": {},
   "source": [
    "The above statistics shows that Province 2 has lowest literacy for both male and female followed by Karnali. \n",
    "This might be one of the reason why these two province has male and female with lowest active bank account. It would \n",
    "be interesting to see if there is any relation between literacy rate and person having active bank account."
   ]
  },
  {
   "cell_type": "markdown",
   "metadata": {},
   "source": [
    "#### male and female with active account by topography"
   ]
  },
  {
   "cell_type": "code",
   "execution_count": 60,
   "metadata": {},
   "outputs": [
    {
     "data": {
      "text/html": [
       "<div>\n",
       "<style scoped>\n",
       "    .dataframe tbody tr th:only-of-type {\n",
       "        vertical-align: middle;\n",
       "    }\n",
       "\n",
       "    .dataframe tbody tr th {\n",
       "        vertical-align: top;\n",
       "    }\n",
       "\n",
       "    .dataframe thead th {\n",
       "        text-align: right;\n",
       "    }\n",
       "</style>\n",
       "<table border=\"1\" class=\"dataframe\">\n",
       "  <thead>\n",
       "    <tr style=\"text-align: right;\">\n",
       "      <th></th>\n",
       "      <th>Percentage of active male accounts</th>\n",
       "      <th>Percentage of active female accounts</th>\n",
       "    </tr>\n",
       "    <tr>\n",
       "      <th>Topography</th>\n",
       "      <th></th>\n",
       "      <th></th>\n",
       "    </tr>\n",
       "  </thead>\n",
       "  <tbody>\n",
       "    <tr>\n",
       "      <th>Hill</th>\n",
       "      <td>29.1</td>\n",
       "      <td>23.6</td>\n",
       "    </tr>\n",
       "    <tr>\n",
       "      <th>Mountain</th>\n",
       "      <td>31.1</td>\n",
       "      <td>18.4</td>\n",
       "    </tr>\n",
       "    <tr>\n",
       "      <th>Terai</th>\n",
       "      <td>28.8</td>\n",
       "      <td>20.9</td>\n",
       "    </tr>\n",
       "  </tbody>\n",
       "</table>\n",
       "</div>"
      ],
      "text/plain": [
       "            Percentage of active male accounts  \\\n",
       "Topography                                       \n",
       "Hill                                      29.1   \n",
       "Mountain                                  31.1   \n",
       "Terai                                     28.8   \n",
       "\n",
       "            Percentage of active female accounts  \n",
       "Topography                                        \n",
       "Hill                                        23.6  \n",
       "Mountain                                    18.4  \n",
       "Terai                                       20.9  "
      ]
     },
     "execution_count": 60,
     "metadata": {},
     "output_type": "execute_result"
    }
   ],
   "source": [
    "account_topography = data.groupby('Topography')['Percentage of active male accounts','Percentage of active female accounts'].mean()\n",
    "account_topography"
   ]
  },
  {
   "cell_type": "code",
   "execution_count": 70,
   "metadata": {},
   "outputs": [
    {
     "data": {
      "image/png": "[encoded data removed]",
      "text/plain": [
       "<Figure size 720x360 with 1 Axes>"
      ]
     },
     "metadata": {
      "needs_background": "light"
     },
     "output_type": "display_data"
    }
   ],
   "source": [
    "fig, ax = plt.subplots(figsize=(10,5))\n",
    "account_topography.plot(kind='bar', ax=ax)\n",
    "font = {'family': 'serif',\n",
    "        'color':  'darkred',\n",
    "        'weight': 'normal',\n",
    "        'size': 16}\n",
    "        \n",
    "ax.set_ylabel('Populatiom with active bank account (%)')\n",
    "ax.set_xlabel('topography',fontdict = font)\n",
    "ax.set_title('Average percentage of male and female with active bank account by topography ')\n",
    "ax.legend(['Male', 'Female']);\n",
    "#plt.set_xticks(fontsize=14,rotation=0)\n",
    "ax.xaxis.set_tick_params(labelsize=14,rotation=0)\n",
    "plt.show()"
   ]
  },
  {
   "cell_type": "markdown",
   "metadata": {},
   "source": [
    "Above visualization shows that overall Nepalese female population has lower access to bank than their male counterpart.\n"
   ]
  },
  {
   "cell_type": "markdown",
   "metadata": {},
   "source": [
    "### Exploring the linear relation between literacy rate and  percentage of population with active bank account "
   ]
  },
  {
   "cell_type": "code",
   "execution_count": 72,
   "metadata": {},
   "outputs": [
    {
     "data": {
      "text/plain": [
       "Text(0.5, 1.0, 'Relationship between female with active bank accounts and literacy rate')"
      ]
     },
     "execution_count": 72,
     "metadata": {},
     "output_type": "execute_result"
    },
    {
     "data": {
      "image/png": "[encoded data removed]",
      "text/plain": [
       "<Figure size 720x504 with 1 Axes>"
      ]
     },
     "metadata": {
      "needs_background": "light"
     },
     "output_type": "display_data"
    }
   ],
   "source": [
    "fig = plt.figure(figsize=(10,7))\n",
    "sns.regplot(x = 'Literacy_Rate_Female', y = 'Percentage of active female accounts', data = data)\n",
    "# Legend, title and labels.\n",
    "plt.title('Relationship between female with active bank accounts and literacy rate', size=15)"
   ]
  },
  {
   "cell_type": "code",
   "execution_count": 73,
   "metadata": {},
   "outputs": [
    {
     "data": {
      "text/plain": [
       "Text(0.5, 1.0, 'Relationship between male with active bank accounts and literacy rate')"
      ]
     },
     "execution_count": 73,
     "metadata": {},
     "output_type": "execute_result"
    },
    {
     "data": {
      "image/png": "[encoded data removed]",
      "text/plain": [
       "<Figure size 720x504 with 1 Axes>"
      ]
     },
     "metadata": {
      "needs_background": "light"
     },
     "output_type": "display_data"
    }
   ],
   "source": [
    "fig = plt.figure(figsize=(10,7))\n",
    "sns.regplot(x = 'Literacy_Rate_Male', y = 'Percentage of active male accounts', data = data)\n",
    "plt.title('Relationship between male with active bank accounts and literacy rate', size=15)"
   ]
  },
  {
   "cell_type": "code",
   "execution_count": null,
   "metadata": {},
   "outputs": [],
   "source": []
  },
  {
   "cell_type": "code",
   "execution_count": null,
   "metadata": {},
   "outputs": [],
   "source": []
  }
 ],
 "metadata": {
  "kernelspec": {
   "display_name": "Python 3",
   "language": "python",
   "name": "python3"
  },
  "language_info": {
   "codemirror_mode": {
    "name": "ipython",
    "version": 3
   },
   "file_extension": ".py",
   "mimetype": "text/x-python",
   "name": "python",
   "nbconvert_exporter": "python",
   "pygments_lexer": "ipython3",
   "version": "3.7.3"
  },
  "toc": {
   "base_numbering": 1,
   "nav_menu": {},
   "number_sections": false,
   "sideBar": true,
   "skip_h1_title": false,
   "title_cell": "Table of Contents",
   "title_sidebar": "Contents",
   "toc_cell": false,
   "toc_position": {},
   "toc_section_display": true,
   "toc_window_display": false
  },
  "varInspector": {
   "cols": {
    "lenName": 16,
    "lenType": 16,
    "lenVar": 40
   },
   "kernels_config": {
    "python": {
     "delete_cmd_postfix": "",
     "delete_cmd_prefix": "del ",
     "library": "var_list.py",
     "varRefreshCmd": "print(var_dic_list())"
    },
    "r": {
     "delete_cmd_postfix": ") ",
     "delete_cmd_prefix": "rm(",
     "library": "var_list.r",
     "varRefreshCmd": "cat(var_dic_list()) "
    }
   },
   "types_to_exclude": [
    "module",
    "function",
    "builtin_function_or_method",
    "instance",
    "_Feature"
   ],
   "window_display": false
  }
 },
 "nbformat": 4,
 "nbformat_minor": 2
}
